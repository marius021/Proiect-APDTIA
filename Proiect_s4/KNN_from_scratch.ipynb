{
  "nbformat": 4,
  "nbformat_minor": 0,
  "metadata": {
    "colab": {
      "provenance": []
    },
    "kernelspec": {
      "name": "python3",
      "display_name": "Python 3"
    },
    "language_info": {
      "name": "python"
    }
  },
  "cells": [
    {
      "cell_type": "code",
      "execution_count": 1,
      "metadata": {
        "id": "E2XChlP19RuX"
      },
      "outputs": [],
      "source": [
        "from sklearn import datasets\n",
        "dataset = datasets.load_iris()"
      ]
    },
    {
      "cell_type": "code",
      "source": [
        "X = dataset.data\n",
        "y = dataset.target"
      ],
      "metadata": {
        "id": "qZyIL0xR-SNH"
      },
      "execution_count": 2,
      "outputs": []
    },
    {
      "cell_type": "markdown",
      "source": [
        "Impartirea setului de date in train/test"
      ],
      "metadata": {
        "id": "h5pzs3mJ-hpE"
      }
    },
    {
      "cell_type": "code",
      "source": [
        "from sklearn.model_selection import train_test_split\n",
        "X_train, X_test, y_train, y_test = train_test_split(X, y, test_size = 0.2)"
      ],
      "metadata": {
        "id": "MYMrm4pM-vk5"
      },
      "execution_count": 3,
      "outputs": []
    },
    {
      "cell_type": "code",
      "source": [
        "import numpy as np\n",
        "def euclidean_distance(a, b):\n",
        "  return np.sqrt(np.sum((a - b) ** 2))"
      ],
      "metadata": {
        "id": "FGb_zHSt_vCf"
      },
      "execution_count": 4,
      "outputs": []
    },
    {
      "cell_type": "code",
      "source": [
        "#parametrul k din K-NN\n",
        "k = 3"
      ],
      "metadata": {
        "id": "7eFGXevIYsCd"
      },
      "execution_count": 5,
      "outputs": []
    },
    {
      "cell_type": "code",
      "source": [
        "#functia primeste ca parametru lista de distante sortata si returneaza clasa pentru un\n",
        "#nou punct pe baza a MAJORITY VOTES\n",
        "def classify(distances):\n",
        "  neighbours = []\n",
        "  for distance, label in distances[:k]:\n",
        "    neighbours.append(label)\n",
        "  prediction = max(set(neighbours), key=neighbours.count)\n",
        "  return prediction"
      ],
      "metadata": {
        "id": "zLM3qkQ9Af43"
      },
      "execution_count": 6,
      "outputs": []
    },
    {
      "cell_type": "code",
      "source": [
        "def knn(X_train, y_train, X_test, k):\n",
        "  predictions = []\n",
        "  for i in X_test:\n",
        "    distances = []\n",
        "    #in bucla for calculam distanta de la punctul pe care vrem sa il clasificam la punctele deja clasificate\n",
        "    for train_sample, train_label in zip(X_train, y_train):\n",
        "      distance = euclidean_distance(i, train_sample) #calculam distanta\n",
        "      distances.append((distance, train_label)) #punem distanta si label (clasa)\n",
        "    #sortam crescator distantele\n",
        "    distances.sort()\n",
        "    prediction = classify(distances) #realizam clasificarea noului punct\n",
        "    predictions.append(prediction)\n",
        "  return predictions"
      ],
      "metadata": {
        "id": "BIhVcKJoCrY5"
      },
      "execution_count": 7,
      "outputs": []
    },
    {
      "cell_type": "code",
      "source": [
        "predictions = knn(X_train, y_train, X_test, k)"
      ],
      "metadata": {
        "id": "uOlwFr56FbiG"
      },
      "execution_count": 8,
      "outputs": []
    },
    {
      "cell_type": "code",
      "source": [
        "from sklearn.metrics import accuracy_score\n",
        "accuracy=accuracy_score(y_test, predictions)\n",
        "print(accuracy)"
      ],
      "metadata": {
        "colab": {
          "base_uri": "https://localhost:8080/"
        },
        "id": "YU85ebInFrVd",
        "outputId": "c4b10df2-aa12-4641-a739-095ebf8cd624"
      },
      "execution_count": 9,
      "outputs": [
        {
          "output_type": "stream",
          "name": "stdout",
          "text": [
            "1.0\n"
          ]
        }
      ]
    }
  ]
}